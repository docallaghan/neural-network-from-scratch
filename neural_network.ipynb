{
 "cells": [
  {
   "cell_type": "code",
   "execution_count": 1,
   "metadata": {
    "colab": {
     "base_uri": "https://localhost:8080/",
     "height": 122
    },
    "colab_type": "code",
    "id": "w9JNMm05oZhH",
    "outputId": "faf9c57e-fe32-47d0-a59c-71b934989667"
   },
   "outputs": [],
   "source": [
    "# This is the directory path to the data-sets\n",
    "# Update if needed\n",
    "path = ''"
   ]
  },
  {
   "cell_type": "markdown",
   "metadata": {
    "colab_type": "text",
    "id": "YlEVfvhUfwqd"
   },
   "source": [
    "# CT5133 - Deep Learning\n",
    "## Assignment 1\n",
    "### March 4, 2019"
   ]
  },
  {
   "cell_type": "markdown",
   "metadata": {
    "colab_type": "text",
    "id": "W4wZ-_tXkE59"
   },
   "source": [
    "**Group\\:**\n",
    "\n",
    "David O'Callaghan (ID - 19233706)\n",
    "\n",
    "Mani Vegupatti Selvanathan (ID -  19232668)"
   ]
  },
  {
   "cell_type": "markdown",
   "metadata": {
    "colab_type": "text",
    "id": "wiCe-2gYmt8Q"
   },
   "source": [
    "## Part 1 - Implementation of a Feed-Forward Neural Network with Back-Propagation\n",
    "\n",
    "___\n",
    "## 1.1 Architecture\n",
    "### 1.1.1 Perceptron and Feed-Forward Neural Network\n",
    "A perceptron is the smallest unit of a neural network which is outputs either 0 or 1 based on threshold value using the cumulative sum of weighted input values. Single perceptron can perform logical operations such as AND, OR and NOT except XOR. To achieve XOR operation, we need multiple perceptrons arranged in layers, known as MultiLayer Perceptron (MLP).  Fully connected Feed-Forward Neural Network (FFNN) is the most common form of the MLP.\n",
    "\n",
    "### 1.1.2 Architecture of a Feed-Forward Neural Network\n",
    "A simple FFNN consists of 3 layers such as input layer, hidden layer and output layer as shown below [1],\n",
    "![alt text](https://drive.google.com/uc?id=1b4xdX_TWU1iLfGTY5nfRjbeoaMi2T9OJ)"
   ]
  },
  {
   "cell_type": "markdown",
   "metadata": {},
   "source": [
    "## 1.2 Algorithm\n",
    "The aim of the algorithm is to learn the weights for the equation which can best approximate the training data and generalize for the unknown data. The backpropagation algorithm uses feedforward pass and backpropagation pass with gradient descent as optimization method.\n",
    "### 1.2.1 Feedforward Pass\n",
    "Feedforward pass computes the hypothesis value of the layer[l+1] using the weighted sum of layer[l] node values as input to non-linear threshold function. The equation [2] is,\n",
    "\n",
    "$z^{(l+1)}= W^{(l)} x^{(l)} + b^{(l)}$  (or) $z^{(l+1)}= W^{(l)} a^{(l)} + b^{(l)}$ \n",
    "\n",
    "$a^{(l+1)}=f(z^{(l+1)})$\n",
    "\n",
    "where $b$ is the bias, $x$ is the feature matrix, $W$ is Weight matrix, $z$ is the weighted sum of input nodes and $a$ is the output of the activation function.\n",
    "\n",
    "We can use any non-linear function such as Sigmoid, Re-Lu, and Tanh as activation functions\n",
    "\n",
    "### 1.2.2 Backpropagation Pass\n",
    "In the backpropagation pass, we learn the weights incremently in the direction of gradient. This is achieved by minimizing the sum of errors in the output layers and hidden layers. In the output layer, we use the error function as difference between actual and predicted value, whereas in the hidden layer we use the weighted sum of errors from the previous layer nodes for which this node is an input node. The formulas [2] used are as below,\n",
    "\n",
    ">$W_{j,k} = W_{j,k}+ αa_{j}Δk$\n",
    "\n",
    ">$Δ_{k}= f'(z_{k}).Err_{k}$\n",
    "\n",
    ">$W_{i.j} =  W_{i,j} + αa_{i}Δ_{j}$\n",
    "\n",
    ">$Δ_{j}= f'(z_{j}) . Σ_{k}W_{j,k}Δ_{k}$\n",
    "\n",
    "### 1.2.2 Backpropagation Algorithm\n",
    "\n",
    "Step 1: We initialize the weights of all layers using random numbers between -1 to +1. (Note: Don't initialize with all zeros or ones)\n",
    "\n",
    "Step 2: We carry out the step3 and Step4 for all epoches or till convergence \n",
    "\n",
    "Step 3: carry out FeedForward Pass\n",
    "\n",
    "Step 4: Backpropagation pass \n",
    "\n",
    "\n",
    "**Sources:**\n",
    "\n",
    "[1] Andrew Ng, Jiquan Ngiam, Chuan Yu Foo, Yifan Mai, Caroline Suen, Adam Coates, Andrew Maas, Awni Hannun, Brody Huval, Tao Wang, Sameep Tandon. Url: http://ufldl.stanford.edu/tutorial/. Unsupervised Feature Learning and Deep Learning Tutorial\n",
    "\n",
    "[2] Madden, M. (2020). CT5133 Deep Learning - Topic 2: From Logistic Regression to Neural Networks\n",
    "\n",
    "\n",
    "___\n",
    "### Python Implementation"
   ]
  },
  {
   "cell_type": "code",
   "execution_count": 0,
   "metadata": {
    "colab": {},
    "colab_type": "code",
    "id": "dQT0uYLCqUxy"
   },
   "outputs": [],
   "source": [
    "# Use numpy for low-level math operations\n",
    "import numpy as np\n",
    "np.random.seed(42) # Random seed or reproducable results\n",
    "\n",
    "class NeuralNetwork(object):\n",
    "    \"\"\"\n",
    "    Implementation of a feed-forward neural network with\n",
    "    back-propagration. The network contains one hidden layer\n",
    "    and the number of nodes in this layer is configurable.\n",
    "    \"\"\"\n",
    "    def __init__(self, num_hidden_nodes, learning_rate=0.01, tol=1e-4, num_epochs=2, activation='sigmoid'):\n",
    "        self.num_hidden_nodes = num_hidden_nodes # Number of nodes in the hidden layer\n",
    "        self.num_output_nodes = 1 # Number of nodes in the output layer\n",
    "        self.learning_rate = learning_rate # Learning rate for GD (alpha)\n",
    "        self.tol = tol # Tolerance for GD convergence\n",
    "        self.num_epochs = num_epochs # Number of epochs for backpropagation\n",
    "        self.stats = [] # Empty list to store error for plotting\n",
    "        \n",
    "        # Handling of activation function\n",
    "        possible_activations = ['sigmoid']\n",
    "        if activation in possible_activations:\n",
    "            self.activation = activation\n",
    "        else:\n",
    "            raise ValueError(f'The activation must be in {possible_activations}')          \n",
    "        \n",
    "        self.__model_fitted = False # To check if the model has already been trained\n",
    "\n",
    "    def fit(self, X, y):\n",
    "        \"\"\"\n",
    "        Back Propagation Algorithm\n",
    "        - Implemented by David\n",
    "        \"\"\"\n",
    "        # Store shape of training data\n",
    "        self.num_samples_train = X.shape[0]\n",
    "        self.num_attributes = X.shape[1]\n",
    "        \n",
    "        # Only initialise weights if the model is not already fitted\n",
    "        if self.__model_fitted == False:\n",
    "            self.initialise_weights()\n",
    "            self.__model_fitted = True\n",
    "\n",
    "        prev_err = 100 # Arbitrarily large error\n",
    "        \n",
    "        for epoch in range(self.num_epochs):\n",
    "            # Feed Forward Pass\n",
    "            self.feed_forward(X)\n",
    "            \n",
    "            # Backprop Pass\n",
    "            # Output Layer\n",
    "            error_output = y - self.a[1] # Error at output\n",
    "            delta_output = error_output * self.fprime(self.a[1]) # Multiply by gradient\n",
    "            weight_update1 = self.learning_rate * np.dot(delta_output, self.a[0].T) # Distribute error\n",
    "            bias_update1 = self.learning_rate * np.sum(delta_output) # Sum equivalent to dot product with 1's\n",
    "\n",
    "            # Hidden Layer\n",
    "            error_hidden = np.dot(self.weights[1].T, delta_output) # 'Error' at hidden layer\n",
    "            delta_hidden = error_hidden * self.fprime(self.a[0]) # Multiply by gradient\n",
    "            weight_update0 = self.learning_rate * np.dot(delta_hidden, X) # Distribute error\n",
    "            bias_update0 = self.learning_rate * np.sum(delta_hidden) # Sum equivalent to dot product with 1's\n",
    "            \n",
    "            # Update Weights\n",
    "            self.weights[1] += weight_update1 # Weights to output layer      \n",
    "            self.weights[0] += weight_update0 # Weights to hidden layer\n",
    "            \n",
    "            # Update Biases\n",
    "            self.biases[1] += bias_update1 # Biases to ouput layer\n",
    "            self.biases[0] += bias_update0 # Biases to hidden layer\n",
    "\n",
    "            # For Monitoring gradient descent\n",
    "            if (epoch + 1) % 250 == 0:\n",
    "                err = self.compute_error(y, self.a[-1])\n",
    "                self.stats.append((epoch, err)) # For plotting\n",
    "                print(f'Epoch {epoch + 1} : Error = {err}')\n",
    "                # Check for convergence\n",
    "                if abs(err - prev_err) <= self.tol:\n",
    "                    print(f'Convergence met after {epoch} Epochs')\n",
    "                    break\n",
    "                prev_err = err # Storing for next check\n",
    "\n",
    "    def predict_proba(self, X):\n",
    "        \"\"\"\n",
    "        Feed Forward with learned weights\n",
    "        - Implemented by Mani\n",
    "        \"\"\"\n",
    "        self.feed_forward(X) # Feed X through the network\n",
    "        \n",
    "        # Predicted probabilities 'a' at the output layer\n",
    "        y_prob = self.a[-1].reshape(-1,) # Reshape to 1-D vector\n",
    "\n",
    "        return y_prob\n",
    "    \n",
    "    def feed_forward(self, X):\n",
    "        \"\"\"\n",
    "        Feed the data X through the network\n",
    "        - Implemented by Mani\n",
    "        \"\"\"\n",
    "        # Hidden Layer\n",
    "        z_hidden = np.dot(self.weights[0], X.T) + self.biases[0]\n",
    "        a_hidden = self.f(z_hidden)\n",
    "        \n",
    "        # Output Layer\n",
    "        z_output = np.dot(self.weights[1], a_hidden) + self.biases[1]\n",
    "        a_output = self.f(z_output)\n",
    "        \n",
    "        self.z = [z_hidden, z_output]\n",
    "        self.a = [a_hidden, a_output] \n",
    "\n",
    "    def predict(self, X, threshold=0.5):\n",
    "        \"\"\"\n",
    "        Apply threshold to the output\n",
    "        - Implemented by Mani\n",
    "        \"\"\"\n",
    "        y_prob = self.predict_proba(X)\n",
    "        y_pred = np.where(y_prob > threshold, 1, 0)\n",
    "        return y_pred\n",
    "\n",
    "    def score(self, X, y):\n",
    "        \"\"\"\n",
    "        Return classification accuracy\n",
    "        - Implemented by David\n",
    "        \"\"\"\n",
    "        y_pred = self.predict(X)\n",
    "        return np.sum(y_pred == y) / len(y)\n",
    "\n",
    "    def initialise_weights(self):\n",
    "        \"\"\"\n",
    "        Initialise the weights in the network to small\n",
    "        random values.\n",
    "        - Implemented by David\n",
    "        \"\"\"\n",
    "        # Set all weights and biases to random values between -0.5 and 0.5\n",
    "\n",
    "        # Weight matrices\n",
    "        self.weights = [None, None]\n",
    "        # Weights from layer 1 (input) to layer 2 (hidden)\n",
    "        self.weights[0] = np.random.rand(self.num_hidden_nodes, self.num_attributes) - 0.5\n",
    "        # Weights from layer 2 (hidden) to layer 3 (output)\n",
    "        self.weights[1] = np.random.rand(self.num_output_nodes, self.num_hidden_nodes) - 0.5\n",
    "        \n",
    "        # Bias Vectors\n",
    "        self.biases = [None, None]\n",
    "        # Biases from layer 1 (input) to layer 2 (hidden)\n",
    "        self.biases[0] = np.random.rand(self.num_hidden_nodes, 1) - 0.5\n",
    "        # Biases from layer 2 (hidden) to layer 3 (output)\n",
    "        self.biases[1] = np.random.rand(self.num_output_nodes, 1) - 0.5\n",
    "\n",
    "    def f(self, z):\n",
    "        \"\"\"\n",
    "        Activation Function\n",
    "        - Implemented by David\n",
    "        \"\"\"\n",
    "        if self.activation == 'sigmoid':\n",
    "            f_z = 1 / ( 1 + np.exp(-z)) # Sigmoid formula\n",
    "        return f_z\n",
    "\n",
    "    def fprime(self, a):\n",
    "        \"\"\"\n",
    "        Derivative of Logistic function\n",
    "        - Implemented by David\n",
    "        \"\"\"\n",
    "        if self.activation == 'sigmoid':\n",
    "            fprime_z = a * ( 1 - a ) # a is the output of f()\n",
    "        return fprime_z  \n",
    "\n",
    "    def compute_error(self, y_train, y_prob):\n",
    "        \"\"\"\n",
    "        Returns the mean absolute error (MAE)\n",
    "        - Implemented by David\n",
    "        \"\"\"\n",
    "        return np.mean(np.abs(y_train - y_prob)) # MAE"
   ]
  },
  {
   "cell_type": "markdown",
   "metadata": {
    "colab_type": "text",
    "id": "SV2FYKAvnFvB"
   },
   "source": [
    "## Part 2 - Testing on a Simple Dataset\n",
    "\n",
    "\n",
    "Reading in the Data-Set (done by David)"
   ]
  },
  {
   "cell_type": "code",
   "execution_count": 0,
   "metadata": {
    "colab": {},
    "colab_type": "code",
    "id": "9KdAKHx4nOF_"
   },
   "outputs": [],
   "source": [
    "# Import libraries for data-preprocessing and plotting\n",
    "import pandas as pd\n",
    "import matplotlib.pyplot as plt\n",
    "from sklearn.model_selection import train_test_split"
   ]
  },
  {
   "cell_type": "code",
   "execution_count": 0,
   "metadata": {
    "colab": {
     "base_uri": "https://localhost:8080/",
     "height": 206
    },
    "colab_type": "code",
    "id": "q4zfTtIUniRq",
    "outputId": "a81f6b5c-9ceb-4fff-b292-491133000614"
   },
   "outputs": [
    {
     "data": {
      "text/html": [
       "<div>\n",
       "<style scoped>\n",
       "    .dataframe tbody tr th:only-of-type {\n",
       "        vertical-align: middle;\n",
       "    }\n",
       "\n",
       "    .dataframe tbody tr th {\n",
       "        vertical-align: top;\n",
       "    }\n",
       "\n",
       "    .dataframe thead th {\n",
       "        text-align: right;\n",
       "    }\n",
       "</style>\n",
       "<table border=\"1\" class=\"dataframe\">\n",
       "  <thead>\n",
       "    <tr style=\"text-align: right;\">\n",
       "      <th></th>\n",
       "      <th>X0</th>\n",
       "      <th>X1</th>\n",
       "      <th>Class</th>\n",
       "    </tr>\n",
       "  </thead>\n",
       "  <tbody>\n",
       "    <tr>\n",
       "      <th>0</th>\n",
       "      <td>0.180647</td>\n",
       "      <td>0.552945</td>\n",
       "      <td>1</td>\n",
       "    </tr>\n",
       "    <tr>\n",
       "      <th>1</th>\n",
       "      <td>-0.188674</td>\n",
       "      <td>0.325629</td>\n",
       "      <td>1</td>\n",
       "    </tr>\n",
       "    <tr>\n",
       "      <th>2</th>\n",
       "      <td>0.413742</td>\n",
       "      <td>0.931251</td>\n",
       "      <td>0</td>\n",
       "    </tr>\n",
       "    <tr>\n",
       "      <th>3</th>\n",
       "      <td>-0.199223</td>\n",
       "      <td>0.902665</td>\n",
       "      <td>0</td>\n",
       "    </tr>\n",
       "    <tr>\n",
       "      <th>4</th>\n",
       "      <td>0.488279</td>\n",
       "      <td>-0.341202</td>\n",
       "      <td>1</td>\n",
       "    </tr>\n",
       "  </tbody>\n",
       "</table>\n",
       "</div>"
      ],
      "text/plain": [
       "         X0        X1  Class\n",
       "0  0.180647  0.552945      1\n",
       "1 -0.188674  0.325629      1\n",
       "2  0.413742  0.931251      0\n",
       "3 -0.199223  0.902665      0\n",
       "4  0.488279 -0.341202      1"
      ]
     },
     "execution_count": 4,
     "metadata": {
      "tags": []
     },
     "output_type": "execute_result"
    }
   ],
   "source": [
    "# Read in data\n",
    "path = \"./\"\n",
    "csv_file_path = path + 'circles500.csv' # TODO update before submission\n",
    "circles_df = pd.read_csv(csv_file_path)\n",
    "circles_df.head()"
   ]
  },
  {
   "cell_type": "code",
   "execution_count": 0,
   "metadata": {
    "colab": {},
    "colab_type": "code",
    "id": "wB_RIzxbn2e8"
   },
   "outputs": [],
   "source": [
    "# Create feature matrix and target vector\n",
    "X, y = circles_df.iloc[:,:-1].values, circles_df.iloc[:,-1].values"
   ]
  },
  {
   "cell_type": "code",
   "execution_count": 0,
   "metadata": {
    "colab": {
     "base_uri": "https://localhost:8080/",
     "height": 390
    },
    "colab_type": "code",
    "id": "W0Ly6E-fnjzA",
    "outputId": "f29555b3-986e-4bb5-cff5-328494e4b7c0"
   },
   "outputs": [
    {
     "data": {
      "image/png": "[encoded data removed]",
      "text/plain": [
       "<Figure size 576x432 with 1 Axes>"
      ]
     },
     "metadata": {
      "needs_background": "light",
      "tags": []
     },
     "output_type": "display_data"
    }
   ],
   "source": [
    "# Scatter plot of data\n",
    "f, ax = plt.subplots(figsize=(8, 6))\n",
    "ax.scatter(X[:,0], X[:, 1], c=y, s=50,\n",
    "           cmap=\"RdBu\", vmin=-.2, vmax=1.2,\n",
    "           edgecolor=\"white\", linewidth=1)\n",
    "\n",
    "ax.set(aspect=\"equal\",\n",
    "       xlim=(-1.3, 1.3), ylim=(-1.3, 1.3),\n",
    "       xlabel=\"$x_0$\", ylabel=\"$x_1$\");"
   ]
  },
  {
   "cell_type": "markdown",
   "metadata": {
    "colab_type": "text",
    "id": "HNc_b-aS1zsV"
   },
   "source": [
    "Train the network and test on a separate subset (done by Mani)"
   ]
  },
  {
   "cell_type": "code",
   "execution_count": 0,
   "metadata": {
    "colab": {},
    "colab_type": "code",
    "id": "1rwetxGTnyfb"
   },
   "outputs": [],
   "source": [
    "# Train test split\n",
    "X_train, X_test, y_train, y_test = train_test_split(X, y, test_size=0.3, random_state=42)"
   ]
  },
  {
   "cell_type": "markdown",
   "metadata": {
    "colab_type": "text",
    "id": "xOA594Jo128A"
   },
   "source": [
    "Create a Neural Network and train it on the training set..."
   ]
  },
  {
   "cell_type": "code",
   "execution_count": 0,
   "metadata": {
    "colab": {
     "base_uri": "https://localhost:8080/",
     "height": 764
    },
    "colab_type": "code",
    "id": "NFP3noWLjrTt",
    "outputId": "b6182ab8-3c5a-444e-d2ae-85fc41ba7444"
   },
   "outputs": [
    {
     "name": "stdout",
     "output_type": "stream",
     "text": [
      "Epoch 250 : Error = 0.49909304755576306\n",
      "Epoch 500 : Error = 0.4987963673139428\n",
      "Epoch 750 : Error = 0.4985595189522306\n",
      "Epoch 1000 : Error = 0.4983607167891773\n",
      "Epoch 1250 : Error = 0.49818261955369214\n",
      "Epoch 1500 : Error = 0.4980097010660687\n",
      "Epoch 1750 : Error = 0.4978261260996485\n",
      "Epoch 2000 : Error = 0.4976134792020488\n",
      "Epoch 2250 : Error = 0.49734791280894064\n",
      "Epoch 2500 : Error = 0.4969963084168825\n",
      "Epoch 2750 : Error = 0.49651106577368254\n",
      "Epoch 3000 : Error = 0.4958232990024918\n",
      "Epoch 3250 : Error = 0.4948346481121202\n",
      "Epoch 3500 : Error = 0.49340851884237913\n",
      "Epoch 3750 : Error = 0.49136175969950957\n",
      "Epoch 4000 : Error = 0.4884567569788401\n",
      "Epoch 4250 : Error = 0.4843915242051982\n",
      "Epoch 4500 : Error = 0.47878091815315615\n",
      "Epoch 4750 : Error = 0.4711150472088694\n",
      "Epoch 5000 : Error = 0.4606952514497123\n",
      "Epoch 5250 : Error = 0.44664548616194866\n",
      "Epoch 5500 : Error = 0.42821149680468934\n",
      "Epoch 5750 : Error = 0.4053416340440653\n",
      "Epoch 6000 : Error = 0.37906442805015933\n",
      "Epoch 6250 : Error = 0.3512466381776835\n",
      "Epoch 6500 : Error = 0.3238796586514015\n",
      "Epoch 6750 : Error = 0.29841876999461403\n",
      "Epoch 7000 : Error = 0.27557459788060734\n",
      "Epoch 7250 : Error = 0.2554831691578986\n",
      "Epoch 7500 : Error = 0.2379666462341417\n",
      "Epoch 7750 : Error = 0.22272359940912118\n",
      "Epoch 8000 : Error = 0.20943157592575776\n",
      "Epoch 8250 : Error = 0.197792151413663\n",
      "Epoch 8500 : Error = 0.1875461108921298\n",
      "Epoch 8750 : Error = 0.17847505854278803\n",
      "Epoch 9000 : Error = 0.1703976378614455\n",
      "Epoch 9250 : Error = 0.163164137091985\n",
      "Epoch 9500 : Error = 0.15665109381027245\n",
      "Epoch 9750 : Error = 0.15075650487012598\n",
      "Epoch 10000 : Error = 0.14539579858704973\n"
     ]
    }
   ],
   "source": [
    "# Train Neural Network\n",
    "clf = NeuralNetwork(num_hidden_nodes=20, learning_rate=0.001, tol=1e-8, num_epochs=10000)\n",
    "clf.fit(X_train, y_train)"
   ]
  },
  {
   "cell_type": "markdown",
   "metadata": {
    "colab_type": "text",
    "id": "JKpKpT-816_X"
   },
   "source": [
    "Test on held out data..."
   ]
  },
  {
   "cell_type": "code",
   "execution_count": 0,
   "metadata": {
    "colab": {
     "base_uri": "https://localhost:8080/",
     "height": 36
    },
    "colab_type": "code",
    "id": "2RG5y2K2Ywd6",
    "outputId": "8fdd0148-6dbf-4420-8522-7e0522c0315b"
   },
   "outputs": [
    {
     "name": "stdout",
     "output_type": "stream",
     "text": [
      "Accuracy: 99.33333333333333%\n"
     ]
    }
   ],
   "source": [
    "print(f'Accuracy: {clf.score(X_test, y_test) * 100}%')"
   ]
  },
  {
   "cell_type": "markdown",
   "metadata": {
    "colab_type": "text",
    "id": "QCwGNBdR1-XA"
   },
   "source": [
    "Visualise the decision boundary..."
   ]
  },
  {
   "cell_type": "code",
   "execution_count": 0,
   "metadata": {
    "colab": {
     "base_uri": "https://localhost:8080/",
     "height": 394
    },
    "colab_type": "code",
    "id": "i-hZ2_QM_X0I",
    "outputId": "2749be42-12d0-4680-ec41-4bb66cc35def"
   },
   "outputs": [
    {
     "data": {
      "image/png": "[encoded data removed]",
      "text/plain": [
       "<Figure size 576x432 with 2 Axes>"
      ]
     },
     "metadata": {
      "needs_background": "light",
      "tags": []
     },
     "output_type": "display_data"
    }
   ],
   "source": [
    "# This code has been adapted from an example plot in CT5132 - Programming and \n",
    "# Tools for AI (by Dr. James McDermott)\n",
    "# Plot decision boundary\n",
    "g = np.linspace(-5, 5, 101)\n",
    "xg, yg = np.meshgrid(g, g)\n",
    "xg = xg.flatten()\n",
    "yg = yg.flatten()\n",
    "Xg = np.array([xg, yg]).T\n",
    "\n",
    "probs = clf.predict_proba(Xg)\n",
    "probs = probs.reshape(101, 101)\n",
    "\n",
    "f, ax = plt.subplots(figsize=(8, 6))\n",
    "\n",
    "# contourf -> contour plot\n",
    "# RdBu -> Red to Blue colour map\n",
    "# vmin, vmax -> bounds on probs\n",
    "contour = ax.contourf(g, g, probs, 25, cmap=\"RdBu\", vmin=0, vmax=1)\n",
    "\n",
    "# colorbar -> legend\n",
    "ax_c = f.colorbar(contour)\n",
    "ax_c.set_label(\"$P(y = 1)$\")\n",
    "ax_c.set_ticks([0, .25, .5, .75, 1])\n",
    "\n",
    "# s -> marker size\n",
    "ax.scatter(X_test[:,0], X_test[:, 1], c=y_test, s=50,\n",
    "           cmap=\"RdBu\", vmin=-.2, vmax=1.2,\n",
    "           edgecolor=\"white\", linewidth=1)\n",
    "\n",
    "ax.set(aspect=\"equal\",\n",
    "       xlim=(-1.3, 1.3), ylim=(-1.3, 1.3),\n",
    "       xlabel=\"$x_0$\", ylabel=\"$x_1$\");"
   ]
  },
  {
   "cell_type": "markdown",
   "metadata": {
    "colab_type": "text",
    "id": "ArEgy2HPlH2h"
   },
   "source": [
    "### Observations on testing\n",
    "\n",
    "The Feed Forward Neural Network with a single hidden layer of 20 nodes was trained on a random split of 70% of the data for 10,000 epochs with a learning rate of 0.001. The data was tested on the remaining 30% of the data (i.e., the test data) and achieved a prediction accuracy of 99.33%. This is almost perfect performance on this simple data-set as the network only mis-classified 1 unseen test sample.\n",
    "\n",
    "From the visualisation of the decision boundary above, the ability of the network to form a non-linear hypothesis is clear. A network with fewer hidden units or one that was trained on a smaller number of epochs could not model circular pattern seen in the plot sufficiently. A higher learning rate would cause the gradient descent to fail to converge on the error."
   ]
  },
  {
   "cell_type": "markdown",
   "metadata": {
    "colab_type": "text",
    "id": "GW8kJWxko6lR"
   },
   "source": [
    "## Part 3 - Testing on a Challenging Dataset\n",
    "The group was tasked with distinguishing between the **Ship** and **Frog** classes in the CIFAR-10 image dataset."
   ]
  },
  {
   "cell_type": "code",
   "execution_count": 0,
   "metadata": {
    "colab": {},
    "colab_type": "code",
    "id": "Nw22VAgPo-7I"
   },
   "outputs": [],
   "source": [
    "# Source: https://www.cs.toronto.edu/~kriz/cifar.html [Date Accessed: 10 February 2020]\n",
    "def unpickle(file):\n",
    "    import pickle\n",
    "    with open(file, 'rb') as fo:\n",
    "        dict = pickle.load(fo, encoding='bytes')\n",
    "    return dict"
   ]
  },
  {
   "cell_type": "code",
   "execution_count": 0,
   "metadata": {
    "colab": {},
    "colab_type": "code",
    "id": "5TbeR4dWsM_Z"
   },
   "outputs": [],
   "source": [
    "# Source: CT5133 Materials: LoadCIFAR10.ipynb provided with the assignment\n",
    "def loadbatch(batchname):\n",
    "    folder = path + 'cifar-10-batches-py' # TODO : Update before submission\n",
    "    batch = unpickle(folder+\"/\"+batchname)\n",
    "    return batch\n",
    "\n",
    "def loadlabelnames():\n",
    "    folder = path + 'cifar-10-batches-py' # TODO : Update before submission\n",
    "    meta = unpickle(folder+\"/\"+'batches.meta')\n",
    "    return meta[b'label_names']\n",
    "\n",
    "def visualise(data, index):\n",
    "    # MM Jan 2019: Given a CIFAR data nparray and the index of an image, display the image.\n",
    "    # Note that the images will be quite fuzzy looking, because they are low res (32x32).\n",
    "\n",
    "    picture = data[index]\n",
    "    # Initially, the data is a 1D array of 3072 pixels; reshape it to a 3D array of 3x32x32 pixels\n",
    "    # Note: after reshaping like this, you could select one colour channel or average them.\n",
    "    picture.shape = (3,32,32) \n",
    "    \n",
    "    # Plot.imshow requires the RGB to be the third dimension, not the first, so need to rearrange\n",
    "    picture = picture.transpose([1, 2, 0])\n",
    "    plt.imshow(picture)\n",
    "    plt.show()"
   ]
  },
  {
   "cell_type": "markdown",
   "metadata": {
    "colab_type": "text",
    "id": "JitBLcqHZtiu"
   },
   "source": [
    "### Data pre-processing (done by Mani)\n",
    "\n",
    "For this more complex data-set, only `data_batch_1` was considered. A single batch contains 10,000 images of 10 different classes. Below, a subset of the images that are of class Ship or Frog is created, resulting in a set of 2055 relevent images. These images are converted from RGB to greyscale before training and testing so that only 1 dimension for each pixel needed to be considered. The data is also normalised to be put on a scale between 0 and 1."
   ]
  },
  {
   "cell_type": "code",
   "execution_count": 0,
   "metadata": {
    "colab": {},
    "colab_type": "code",
    "id": "JaDQ1IU7N06E"
   },
   "outputs": [],
   "source": [
    "labels = [b'ship', b'frog']\n",
    "n_batches = 5\n",
    "names = loadlabelnames()\n",
    "\n",
    "def rgb2gray(batch_num):\n",
    "    batch_name = 'data_batch_' + str(batch_num)\n",
    "    batch = loadbatch(batch_name)\n",
    "\n",
    "    # Get data and targets\n",
    "    X = batch[b'data']\n",
    "    y = np.array(batch[b'labels'])\n",
    "\n",
    "    # Filter only ship and frog\n",
    "    indices = np.bitwise_or(y == names.index(b'ship'), y == names.index(b'frog'))\n",
    "    \n",
    "    # Create Feature Matrix\n",
    "    X = X[indices]\n",
    "    n_samples = X.shape[0]\n",
    "    \n",
    "    # Reshape X to multiply with RGB to grey conversation constants array\n",
    "    X.shape = (n_samples,3,32,32) \n",
    "    r, g, b = np.asarray(.3, dtype='float32'), np.asarray(.59, dtype='float32'), np.asarray(.11, dtype='float32')\n",
    "    # Grey scale data\n",
    "    grey = (r*X[:,0,:,:] + g*X[:,1,:,:] + b*X[:,2,:,:])\n",
    "    \n",
    "    # Convert to 2D array for input to NN\n",
    "    grey_2d = np.copy(grey)\n",
    "    grey_2d.shape = (n_samples,1024)\n",
    "    \n",
    "    # Create binary target Vector\n",
    "    y = y[indices]\n",
    "    y = np.where(y == names.index(b'ship'), 1, 0) # ship is 1, frog is 0\n",
    "    \n",
    "    return grey_2d, y\n",
    "\n",
    "X, y = rgb2gray(batch_num=1)"
   ]
  },
  {
   "cell_type": "code",
   "execution_count": 0,
   "metadata": {
    "colab": {},
    "colab_type": "code",
    "id": "Bnw__Ymyv2pq"
   },
   "outputs": [],
   "source": [
    "# Train test split (80% Train, 20% Test)\n",
    "X_train, X_test, y_train, y_test = train_test_split(X, y, test_size=0.2, random_state=42)"
   ]
  },
  {
   "cell_type": "code",
   "execution_count": 0,
   "metadata": {
    "colab": {},
    "colab_type": "code",
    "id": "Qb_b8UdtZnXz"
   },
   "outputs": [],
   "source": [
    "from sklearn.preprocessing import Normalizer\n",
    "norm = Normalizer()\n",
    "X_train_norm = norm.fit_transform(X_train)\n",
    "X_test_norm = norm.transform(X_test)"
   ]
  },
  {
   "cell_type": "markdown",
   "metadata": {
    "colab_type": "text",
    "id": "pH98aS2-Z_TB"
   },
   "source": [
    "### Train the network and test on a separate subset (done by David)\n",
    "\n",
    "Below, the NeuralNetwork class is instantiated with hidden layer of 256 nodes. The network is trained on the training set (greyscale and normalised) with a learning rate of 0.001 for 10,000 epochs. Note that the Mean Absolute Error is printed out for each epoch."
   ]
  },
  {
   "cell_type": "code",
   "execution_count": 0,
   "metadata": {
    "colab": {
     "base_uri": "https://localhost:8080/",
     "height": 764
    },
    "colab_type": "code",
    "id": "gqvOpiZov50A",
    "outputId": "bbcafafc-f222-4174-ee2f-30b75800ecea"
   },
   "outputs": [
    {
     "name": "stdout",
     "output_type": "stream",
     "text": [
      "Epoch 250 : Error = 0.4229190470721556\n",
      "Epoch 500 : Error = 0.3830981316711682\n",
      "Epoch 750 : Error = 0.3635630557844033\n",
      "Epoch 1000 : Error = 0.35240925898397196\n",
      "Epoch 1250 : Error = 0.34494568026662437\n",
      "Epoch 1500 : Error = 0.33936460132843177\n",
      "Epoch 1750 : Error = 0.3348742966058518\n",
      "Epoch 2000 : Error = 0.3310840776880023\n",
      "Epoch 2250 : Error = 0.32778117056020106\n",
      "Epoch 2500 : Error = 0.32483903002799125\n",
      "Epoch 2750 : Error = 0.3221763682652743\n",
      "Epoch 3000 : Error = 0.31973772332438655\n",
      "Epoch 3250 : Error = 0.31748360911415097\n",
      "Epoch 3500 : Error = 0.3153850607916547\n",
      "Epoch 3750 : Error = 0.31342030749128463\n",
      "Epoch 4000 : Error = 0.3115725809668294\n",
      "Epoch 4250 : Error = 0.3098286113867528\n",
      "Epoch 4500 : Error = 0.30817758366451425\n",
      "Epoch 4750 : Error = 0.3066104189348274\n",
      "Epoch 5000 : Error = 0.3051192878573326\n",
      "Epoch 5250 : Error = 0.30369728697654114\n",
      "Epoch 5500 : Error = 0.3023382269859751\n",
      "Epoch 5750 : Error = 0.30103649547911643\n",
      "Epoch 6000 : Error = 0.2997869675123153\n",
      "Epoch 6250 : Error = 0.29858494552813347\n",
      "Epoch 6500 : Error = 0.29742611632344534\n",
      "Epoch 6750 : Error = 0.296306517202854\n",
      "Epoch 7000 : Error = 0.2952225065957611\n",
      "Epoch 7250 : Error = 0.2941707365443438\n",
      "Epoch 7500 : Error = 0.2931481258517679\n",
      "Epoch 7750 : Error = 0.2921518335329153\n",
      "Epoch 8000 : Error = 0.2911792327080726\n",
      "Epoch 8250 : Error = 0.2902278853555853\n",
      "Epoch 8500 : Error = 0.28929551848527935\n",
      "Epoch 8750 : Error = 0.288380002368773\n",
      "Epoch 9000 : Error = 0.28747933149496957\n",
      "Epoch 9250 : Error = 0.286591608915441\n",
      "Epoch 9500 : Error = 0.28571503459482095\n",
      "Epoch 9750 : Error = 0.28484789826605733\n",
      "Epoch 10000 : Error = 0.2839885770890025\n"
     ]
    }
   ],
   "source": [
    "# Train Neural Network\n",
    "nn = NeuralNetwork(num_hidden_nodes=256, learning_rate=0.001, tol=1e-13, num_epochs=10000)\n",
    "nn.fit(X_train_norm, y_train)"
   ]
  },
  {
   "cell_type": "markdown",
   "metadata": {
    "colab_type": "text",
    "id": "2zV8XadjE8a-"
   },
   "source": [
    "Check the performance on the unseen test set:"
   ]
  },
  {
   "cell_type": "code",
   "execution_count": 0,
   "metadata": {
    "colab": {
     "base_uri": "https://localhost:8080/",
     "height": 36
    },
    "colab_type": "code",
    "id": "5BWkhyOtwWjW",
    "outputId": "379abe4e-bdc8-4011-bf24-10f29c91f8bc"
   },
   "outputs": [
    {
     "name": "stdout",
     "output_type": "stream",
     "text": [
      "Accuracy: 79.07542579075427%\n"
     ]
    }
   ],
   "source": [
    "print(f'Accuracy: {nn.score(X_test_norm, y_test) * 100}%')"
   ]
  },
  {
   "cell_type": "markdown",
   "metadata": {
    "colab_type": "text",
    "id": "xxrZHHsjE8bF"
   },
   "source": [
    "Create a confusion matrix for further insight on the performance:"
   ]
  },
  {
   "cell_type": "code",
   "execution_count": 0,
   "metadata": {
    "colab": {},
    "colab_type": "code",
    "id": "Zouq5fnEgxnE"
   },
   "outputs": [],
   "source": [
    "def make_confusion_matrix(y_pred, y_test, classes=(\"Frog\", \"Ship\")):\n",
    "    \"\"\"\n",
    "    Plots a confusion matrix as a heatmap.\n",
    "    \n",
    "    This code was adapted from the following source:\n",
    "    https://datatofish.com/confusion-matrix-python/ [Accessed: 24/02/2020]\n",
    "    \"\"\"\n",
    "    import seaborn as sns\n",
    "    y_test_ = np.where(y_test==1, classes[1], classes[0])\n",
    "    y_pred_ = np.where(y_pred==1, classes[1], classes[0])\n",
    "    data = {'y_Actual':    y_test_,\n",
    "            'y_Predicted': y_pred_\n",
    "            }\n",
    "\n",
    "    df = pd.DataFrame(data, columns=['y_Actual','y_Predicted'])\n",
    "    confusion_matrix = pd.crosstab(df['y_Actual'], df['y_Predicted'], rownames=['Actual'], colnames=['Predicted'])\n",
    "\n",
    "    # https://seaborn.pydata.org/tutorial/color_palettes.html\n",
    "    cmap = sns.light_palette((260, 75, 60), input=\"husl\", as_cmap=True)\n",
    "\n",
    "    ax = sns.heatmap(confusion_matrix, annot=True, cmap=cmap, fmt='g', cbar=True);\n",
    "    ax.set_title(\"Confusion Matrix\")\n",
    "    ax.set(aspect=\"equal\")\n",
    "    plt.show()"
   ]
  },
  {
   "cell_type": "code",
   "execution_count": 0,
   "metadata": {
    "colab": {
     "base_uri": "https://localhost:8080/",
     "height": 295
    },
    "colab_type": "code",
    "id": "LNLPA37QFBpX",
    "outputId": "9d57af8a-ba92-421a-d143-422fb14e236b"
   },
   "outputs": [
    {
     "data": {
      "image/png": "[encoded data removed]",
      "text/plain": [
       "<Figure size 432x288 with 2 Axes>"
      ]
     },
     "metadata": {
      "tags": []
     },
     "output_type": "display_data"
    }
   ],
   "source": [
    "y_pred = nn.predict(X_test_norm)\n",
    "make_confusion_matrix(y_pred, y_test)"
   ]
  },
  {
   "cell_type": "markdown",
   "metadata": {
    "colab_type": "text",
    "id": "37YQ-32RlY2X"
   },
   "source": [
    "### Observations on Testing\n",
    "**Data Preprocessing:** The input data to the model plays a huge role in achieving the final accuracy. We tried below steps,\n",
    "\n",
    "\n",
    ">>1.   Single Color Vs Greyscale image: The input data with conversion to greyscale performs better than the single colour.\n",
    ">>2.   Non-normalized Vs Normalized data: We had convergence issues in the non-normalized data where errors were fluctuating and for the normalized data we rarely had the fluctuation and it helped in convergence.\n",
    "\n",
    "**Number of Nodes:** We have tried with multiples \"number of nodes\" and found that the \"number of nodes\" affects the accuracy and training speed. With various runs, we found that $256$ nodes perform best for this dataset.\n",
    "\n",
    "**Learning Rate:** With learning rate 0.01 the gradient descent unable to find the minima, whereas with 0.0001 it was learning very slow and $0.001$ was the optimal learning rate for this task.\n",
    "\n",
    "**Epoches:** We noticed that \"$10,000$ epochs\" is the suitable choice and above which it doesn't contribute to the increase in accuracy in the test data set.\n",
    "\n",
    "**Confusion Matrix:** We found that the model performs better in detecting frogs when compared to ships\n"
   ]
  },
  {
   "cell_type": "markdown",
   "metadata": {
    "colab_type": "text",
    "id": "T_m90Ozmlbk-"
   },
   "source": [
    "## Part 4 - Deep Learning\n",
    "### 4.1 Enhancement - Adding more hidden layers (David O'Callaghan)\n",
    "___\n",
    "#### Description of Enhancment\n",
    "\n",
    "A deep neural network can be created by adding more hidden layers and more hidden nodes to each layer of the implementation used thus far. Such a network can represent functions of a higher complexity compared to 'shallow' networks (Goodfellow, 2016). A caveat, however, is that deeper networks take longer to train and using back-propagation can lead to vanishing gradient problem.\n",
    "\n",
    "The feed forward neural network with a single hidden layer was sufficient for accurately classifying the samples in the _circles500_ data-set. However, the best accuracy that could be achieved in the binary classification task for images from the _CIFAR-10_ data-set was only 79%. A deep neural network could potentially close this gap.\n",
    "\n",
    "To implement this enhancement, the feed-forward and back-propagation algorithms needed to be extended to work for a higher number of hidden layers. In the single hidden layer implementation, the feed forward and back propagation contained _hard-coded_ calculations for each layer in the network. To make a more flexible implementation that could have a variable number of hidden layers, the formulae (Madden, 2020) presented in Part 1 above needed to be re-implemented in general form so that the layers could be looped through.\n",
    "\n",
    "**Sources:**\n",
    "\n",
    "Goodfellow, I., Bengio, Y., & Courville, A. (2016). Deep learning. MIT press.\n",
    "\n",
    "Madden, M. (2020). CT5133 Deep Learning - Topic 2: From Logistic Regression to Neural Networks\n",
    "___\n",
    "#### Implementation of Enhancement"
   ]
  },
  {
   "cell_type": "code",
   "execution_count": 0,
   "metadata": {
    "colab": {},
    "colab_type": "code",
    "id": "y7bDho9klewi"
   },
   "outputs": [],
   "source": [
    "class DeepNeuralNetwork(NeuralNetwork):\n",
    "    \"\"\"\n",
    "    Implementation of a feed-forward neural network with\n",
    "    back-propagration. The network can contain multiple hidden layers\n",
    "    and the number of nodes in each layer is configurable.\n",
    "    \"\"\"\n",
    "    def __init__(self, hidden_layer_sizes=(10,10), learning_rate=0.01, tol=1e-4, num_epochs=2, activation='sigmoid'):\n",
    "        self.hidden_layer_sizes = hidden_layer_sizes # Tuple of number of hidden units in each hidden layer\n",
    "        self.num_output_nodes = 1 # Number of nodes in the output layer\n",
    "        self.learning_rate = learning_rate # Learning rate for GD (alpha)\n",
    "        self.tol = tol # Tolerance for GD convergence\n",
    "        self.num_epochs = num_epochs # Number of epochs for backpropagation\n",
    "        self.stats = [] # Empty list to store error for plotting\n",
    "        \n",
    "        # Handling of activation function\n",
    "        possible_activations = ['sigmoid']\n",
    "        if activation in possible_activations:\n",
    "            self.activation = activation\n",
    "        else:\n",
    "            raise ValueError(f'The activation must be in {possible_activations}') \n",
    "        \n",
    "        self.__num_hidden_layers = len(hidden_layer_sizes) # Number of hidden layers\n",
    "        self.__num_layers = self.__num_hidden_layers + 2 # Number of layers\n",
    "        self.__model_fitted = False # To check if the model has already been trained\n",
    "\n",
    "    def fit(self, X, y):\n",
    "        \"\"\"\n",
    "        Back Propagation Algorithm\n",
    "        \"\"\"\n",
    "        # Store shape of training data\n",
    "        self.num_samples_train = X.shape[0]\n",
    "        self.num_attributes = X.shape[1]\n",
    "        \n",
    "        # Only initialise weights if the model is not already fitted\n",
    "        if self.__model_fitted == False:\n",
    "            self.initialise_weights()\n",
    "            self.__model_fitted = True\n",
    "\n",
    "        prev_err = 100 # Arbitrarily large error\n",
    "        \n",
    "        # Initialise vectors for updating weights\n",
    "        weight_updates = [0] * (self.__num_hidden_layers + 1)\n",
    "        bias_updates = [0] * (self.__num_hidden_layers + 1)\n",
    "        \n",
    "        for epoch in range(self.num_epochs):\n",
    "            # Feed Forward Pass\n",
    "            self.feed_forward(X)\n",
    "            \n",
    "            # Backprop Pass\n",
    "            error = y - self.a[-1] # Error on output\n",
    "            for i in range(1, self.__num_layers): \n",
    "                delta = error * self.fprime(self.a[-i]) # Multiply by gradient\n",
    "                weight_updates[-i] = self.learning_rate * np.dot(delta, self.a[-(i+1)].T) # Distribute error\n",
    "                bias_updates[-i] = self.learning_rate * np.sum(delta)\n",
    "                error = np.dot(self.weights[-i].T, delta) # Error for next iteration\n",
    "            \n",
    "            # Update weights and biases in each layer\n",
    "            for k in range(self.__num_hidden_layers + 1):\n",
    "                self.weights[k] += weight_updates[k]\n",
    "                self.biases[k] += bias_updates[k]\n",
    "            \n",
    "            # For Monitoring gradient descent\n",
    "            if (epoch + 1) % 250 == 0:\n",
    "                err = self.compute_error(y, self.a[-1])\n",
    "                self.stats.append((epoch, err)) # For plotting\n",
    "                print(f'Epoch {epoch + 1} : Error = {err}')\n",
    "                # Check for convergence\n",
    "                if abs(err - prev_err) <= self.tol:\n",
    "                    print(f'Convergence met after {epoch} Epochs')\n",
    "                    break\n",
    "                prev_err = err # Storing for next check\n",
    "    \n",
    "    def feed_forward(self, X):\n",
    "        \n",
    "        self.a = [None] * self.__num_layers\n",
    "        self.a[0] = X.T # Need to transpose for input layer\n",
    "        \n",
    "        # Iterate through layers \n",
    "        for i in range(1, self.__num_layers):\n",
    "            # Compute W.A + b for layer i\n",
    "            z = np.dot(self.weights[i-1], self.a[i-1]) + self.biases[i-1]\n",
    "            # Apply activation function\n",
    "            self.a[i] = self.f(z) \n",
    "\n",
    "    def initialise_weights(self):\n",
    "        \"\"\"\n",
    "        Initialise the weights in the network to small\n",
    "        random values.\n",
    "        \"\"\"\n",
    "        # Set of weights and biases to and from each hidden layer\n",
    "        self.weights = [None] * (self.__num_hidden_layers + 1)\n",
    "        self.biases = [None] * (self.__num_hidden_layers + 1)\n",
    "        \n",
    "        # Tuple with size of each layer\n",
    "        layer_sizes = (self.num_attributes, *self.hidden_layer_sizes, self.num_output_nodes)\n",
    "        \n",
    "        # Initialise each set of weights and biases to random values in the range [-0.5, 0.5]\n",
    "        for i in range(self.__num_hidden_layers + 1):\n",
    "            # Weight matrix shape: rows = next layer size, cols = current layer size\n",
    "            self.weights[i] = np.random.rand(layer_sizes[i+1], layer_sizes[i]) - 0.5\n",
    "            # Bias vector shape: rows = next layer size, cols = 1\n",
    "            self.biases[i] = np.random.rand(layer_sizes[i+1], 1) - 0.5\n"
   ]
  },
  {
   "cell_type": "code",
   "execution_count": 0,
   "metadata": {
    "colab": {
     "base_uri": "https://localhost:8080/",
     "height": 764
    },
    "colab_type": "code",
    "id": "ulbbSaq_9gRB",
    "outputId": "f930997d-aa4d-42e7-8996-be8b3e617640"
   },
   "outputs": [
    {
     "name": "stdout",
     "output_type": "stream",
     "text": [
      "Epoch 250 : Error = 0.4693271171169897\n",
      "Epoch 500 : Error = 0.41261825246246303\n",
      "Epoch 750 : Error = 0.37432193580146095\n",
      "Epoch 1000 : Error = 0.3557024440024768\n",
      "Epoch 1250 : Error = 0.3455675071371803\n",
      "Epoch 1500 : Error = 0.3387824390234516\n",
      "Epoch 1750 : Error = 0.3335743625742463\n",
      "Epoch 2000 : Error = 0.32926090880784914\n",
      "Epoch 2250 : Error = 0.32553231129233573\n",
      "Epoch 2500 : Error = 0.3222251741142581\n",
      "Epoch 2750 : Error = 0.3192413110637364\n",
      "Epoch 3000 : Error = 0.31651553133430205\n",
      "Epoch 3250 : Error = 0.3140015049190365\n",
      "Epoch 3500 : Error = 0.3116645834236512\n",
      "Epoch 3750 : Error = 0.3094775553243389\n",
      "Epoch 4000 : Error = 0.3074178943900941\n",
      "Epoch 4250 : Error = 0.3054659050753926\n",
      "Epoch 4500 : Error = 0.3036034250807435\n",
      "Epoch 4750 : Error = 0.30181284732812336\n",
      "Epoch 5000 : Error = 0.3000763089408892\n",
      "Epoch 5250 : Error = 0.2983749958638431\n",
      "Epoch 5500 : Error = 0.29668861467768554\n",
      "Epoch 5750 : Error = 0.29499509736142493\n",
      "Epoch 6000 : Error = 0.29327038097584845\n",
      "Epoch 6250 : Error = 0.2914879629194759\n",
      "Epoch 6500 : Error = 0.2896191501911059\n",
      "Epoch 6750 : Error = 0.28763674676649464\n",
      "Epoch 7000 : Error = 0.2855226764593297\n",
      "Epoch 7250 : Error = 0.28327523074425165\n",
      "Epoch 7500 : Error = 0.28091187951735785\n",
      "Epoch 7750 : Error = 0.27846709592704344\n",
      "Epoch 8000 : Error = 0.2759861038813577\n",
      "Epoch 8250 : Error = 0.27351597962621094\n",
      "Epoch 8500 : Error = 0.2710967657084777\n",
      "Epoch 8750 : Error = 0.26875564937881674\n",
      "Epoch 9000 : Error = 0.266505633154515\n",
      "Epoch 9250 : Error = 0.26434781529405665\n",
      "Epoch 9500 : Error = 0.26227525367945875\n",
      "Epoch 9750 : Error = 0.26027669263275827\n",
      "Epoch 10000 : Error = 0.25833932124571696\n"
     ]
    }
   ],
   "source": [
    "dnn = DeepNeuralNetwork(hidden_layer_sizes=(256, 64), learning_rate=0.001, tol=1e-8, num_epochs=10000)\n",
    "dnn.fit(X_train_norm, y_train)"
   ]
  },
  {
   "cell_type": "code",
   "execution_count": 0,
   "metadata": {
    "colab": {
     "base_uri": "https://localhost:8080/",
     "height": 426
    },
    "colab_type": "code",
    "id": "v7-x9MuURWxp",
    "outputId": "377df422-fb3b-4fe8-d93d-4facaa7bb03e"
   },
   "outputs": [
    {
     "name": "stdout",
     "output_type": "stream",
     "text": [
      "Results on Test Data\n",
      "---------------------\n",
      "Accuracy: \t79.80000000000001%\n",
      "Precision: \t87.1%\n",
      "Recall: \t71.0%\n",
      "F1-Score: \t78.2%\n",
      "\n"
     ]
    },
    {
     "data": {
      "image/png": "[encoded data removed]",
      "text/plain": [
       "<Figure size 432x288 with 2 Axes>"
      ]
     },
     "metadata": {
      "tags": []
     },
     "output_type": "display_data"
    }
   ],
   "source": [
    "from sklearn.metrics import precision_score, recall_score, f1_score\n",
    "\n",
    "y_pred = dnn.predict(X_test_norm) # Store prediction on test data\n",
    "acc = dnn.score(X_test_norm, y_test) # Accuracy\n",
    "pre = precision_score(y_test, y_pred) # Precision\n",
    "rec = recall_score(y_test, y_pred) # Recall\n",
    "f1 = f1_score(y_test, y_pred) # F1-score\n",
    "\n",
    "# Print metrics\n",
    "print('Results on Test Data\\n---------------------')\n",
    "print(f'Accuracy: \\t{100* round(acc, 3)}%')\n",
    "print(f'Precision: \\t{100* round(pre, 3)}%')\n",
    "print(f'Recall: \\t{100* round(rec, 3)}%')\n",
    "print(f'F1-Score: \\t{100* round(f1, 3)}%\\n')\n",
    "\n",
    "# Display Confusion Matrix\n",
    "make_confusion_matrix(y_pred, y_test)"
   ]
  },
  {
   "cell_type": "markdown",
   "metadata": {
    "colab_type": "text",
    "id": "e5k_vSznOrJt"
   },
   "source": [
    "Compare error curves ..."
   ]
  },
  {
   "cell_type": "code",
   "execution_count": 0,
   "metadata": {
    "colab": {
     "base_uri": "https://localhost:8080/",
     "height": 279
    },
    "colab_type": "code",
    "id": "ZtTpPfd7sb0d",
    "outputId": "ec611985-79c1-4e18-8e5e-1f2f9a8db08c"
   },
   "outputs": [
    {
     "data": {
      "image/png": "[encoded data removed]",
      "text/plain": [
       "<Figure size 432x288 with 1 Axes>"
      ]
     },
     "metadata": {
      "tags": []
     },
     "output_type": "display_data"
    }
   ],
   "source": [
    "stats_nn = np.array(nn.stats)\n",
    "stats_dnn = np.array(dnn.stats)\n",
    "plt.plot(stats_nn[:,0], stats_nn[:,1], 'b.-', alpha=0.8)\n",
    "plt.plot(stats_dnn[:,0], stats_dnn[:,1], 'r.-', alpha=0.8)\n",
    "plt.xlabel('Epochs')\n",
    "plt.ylabel('MAE on Training Data')\n",
    "plt.legend(['1 Hidden Layer', '2 Hidden Layers'])\n",
    "plt.show()"
   ]
  },
  {
   "cell_type": "markdown",
   "metadata": {
    "colab_type": "text",
    "id": "LOtRSIJ5L5QN"
   },
   "source": [
    "___\n",
    "#### Observations\n",
    "\n",
    "Although the implementation for this enhancment allows for a neural network any number of hidden layers to be built, only two hidden layers were used in the testing. The reason for this is that with more hidden layers, the training time became too long. Even with two hidden layers, the 'deep' neural network took much longer to train than the single layer initial implementation.\n",
    "\n",
    "The size of the 1st hidden layer in the network was set to the same as the hidden layer in the single hidden layer implementation ($256$). Since this was a quarter of the size of the input layer, the same factor was applied again to select the size of the 2nd hidden layer ($256/4 = 64$). This network was trained and tested on the same data as before and marginally better results were obtained. An improvement in accuracy of $0.7\\%$ on the unseen test data was achieved, giving a total accuracy of $79.8\\%$. When comparing the confusion matrices for the 2 models, it can be seen that the enhanced model performs better at classifying Frog images but does not perform as well at classifying Ship images.\n",
    "\n",
    "The plot above of the Mean Absolute Error (MAE) on the training data across the epochs shows the enhanced model surpassing the single hidden layer network in performance after about 1,000 epochs. The enhanced model appears to still be improving its MAE at a relatively quick rate after 10,000 epochs so perhaps it could have been trained for longer. However, no feature was implemented to prevent over-fitting (such as regularisation or mini-batch training) so the number of epochs was not increased any further."
   ]
  },
  {
   "cell_type": "markdown",
   "metadata": {
    "colab_type": "text",
    "id": "ovOgnuQeGPny"
   },
   "source": [
    "### 4.2 Enhancement - Mini-batch Gradient Descent (Mani Vegupatti Selvanathan)\n",
    "___\n",
    "#### Description of Enhancement:\n",
    "\n",
    "The few most used methods for updating the weights using gradient descent (andrew) are,\n",
    "\n",
    "\n",
    "1.   Stochastic Gradient Descent (SGD): Randomly pick one sample for the gradient calculation and updating weights.\n",
    "2.   Batch Gradient Descent (BGD): Use all data-points of the batch for computation and update weights at end of the iteration \n",
    "3.   Mini-batch Gradient Descent (MBGD): This is mid-way between SGD and BGD. Instead of using full-gradient like BGD or single-data-point-gradient like SGD for optimizing weight, this method uses a batch of small size for gradient computation.\n",
    "\n",
    "#### Algorithm:\n",
    "- Iterate for all epochs or until convergence \n",
    ">- Shuffle the training samples\n",
    ">- loop for sample size with increment step using mini-batch size\n",
    ">>- Select the slices of samples (mini-batch) from the desired location in training  dataset using the mini-batch size and iteration number\n",
    ">>- Calculate gradient and update weights using forward pass and backpropagation using mini-batch\n",
    "\n",
    "#### How it works and tricks for implementation:\n",
    "BGD is computationally costly and converges slowly, whereas SGD is quicker in computation, helps to avoid local minima since it calculates gradient using noisy gradient surface (nic) and converges fast though not guaranteed.\n",
    "\n",
    "Mini-batch smoothens the noise using suitable batch-size. Hence, the batch-size should be small enough to jump-off the local minima and large enough to reduce noise and reach global minima. \n",
    "\n",
    "Mini-batch is used by many NN, because of less computational overhead owing to the smaller matrix size and converges  faster. \n",
    "\n",
    "Another trick in optimizing the learning in mini-batch is adjusting the learning rates (Hinton) as per the error.\n",
    "\n",
    "**Sources:**\n",
    "\n",
    "Andrew Ng, Younes Bensouda Mourri. Url: https://web.stanford.edu/class/cs129/. CS129: Applied Machine Learning\n",
    "\n",
    "Nic Schraudolph and Fred Cummins. Url: https://cnl.salk.edu/~schraudo/teach/NNcourse/. Introduction to Neural Networks\n",
    "\n",
    "Geoffrey E. Hinton. Url. http://www.cs.toronto.edu/~hinton/coursera/lecture6/lec6a.mp4. Lecture 6 Overview of mini batch gradient descent\n",
    "\n",
    "\n",
    "___\n",
    "#### Implementation of Enhancement"
   ]
  },
  {
   "cell_type": "code",
   "execution_count": 0,
   "metadata": {
    "colab": {},
    "colab_type": "code",
    "id": "fuGe4ISJtR6-"
   },
   "outputs": [],
   "source": [
    "import copy\n",
    "from sklearn.utils import shuffle\n",
    "class NeuralNetworkMBGD(NeuralNetwork):\n",
    "    \"\"\"\n",
    "    Implementation of a feed-forward neural network with\n",
    "    back-propagration using mini-batch gradient descent\n",
    "    \"\"\"\n",
    "    def __init__(self, num_hidden_nodes, learning_rate=0.01, tol=1e-4, num_epochs=2, activation='sigmoid', mini_batch_size=128, adj_lrr=False):\n",
    "        self.num_hidden_nodes = num_hidden_nodes # Number of nodes in the hidden layer\n",
    "        self.num_output_nodes = 1 # Number of nodes in the output layer\n",
    "        self.learning_rate = learning_rate # Current Learning rate for GD (alpha)\n",
    "        self.learning_rate_init = learning_rate # Original learning rate provided by user\n",
    "        self.tol = tol # Tolerance for GD convergence\n",
    "        self.num_epochs = num_epochs # Number of epochs for backpropagation\n",
    "        self.stats = [] # Empty list to store train-error for plotting\n",
    "        self.test_stats = [] # Empty list to store test-error for plotting\n",
    "        self.adj_lrr = adj_lrr # Boolean variable to control learning rate adjustemnt\n",
    "        self.mini_batch_size = mini_batch_size # Set mini-batch size\n",
    "        self.models = {} # Empty dictionary to store the models \n",
    "        \n",
    "        # Handling of activation function\n",
    "        possible_activations = ['sigmoid']\n",
    "        if activation in possible_activations:\n",
    "            self.activation = activation\n",
    "        else:\n",
    "            raise ValueError(f'The activation must be in {possible_activations}')          \n",
    "        \n",
    "        self.__model_fitted = False # To check if the model has already been trained\n",
    "\n",
    "    def fit(self, X_train, y_train, X_test, y_test):\n",
    "        \n",
    "        # Store shape of mini-batch for internal node/structure creation\n",
    "        self.num_samples_train = self.mini_batch_size #X.shape[0]\n",
    "        self.num_attributes = X_train.shape[1]#X.shape[1]\n",
    "        \n",
    "        # Only initialise weights if the model is not already fitted\n",
    "        if self.__model_fitted == False:\n",
    "            self.initialise_weights()\n",
    "            self.__model_fitted = True\n",
    "\n",
    "        prev_err = 100 # Arbitrarily large error\n",
    "        \n",
    "        for epoch in range(self.num_epochs):\n",
    "            #Shuffle the samples. Selection with replacemnt\n",
    "            X_train, y_train = shuffle(X_train, y_train)\n",
    "            #Calculate gradient and update weights using mini-batch\n",
    "            for i in range(0, X_train.shape[0], self.mini_batch_size):\n",
    "                X = X_train[i:i + self.mini_batch_size]\n",
    "                y = y_train[i:i + self.mini_batch_size]\n",
    "                # Feed Forward Pass\n",
    "                self.feed_forward(X)\n",
    "\n",
    "                # Backprop Pass\n",
    "                # Output Layer\n",
    "                error_output = y - self.a[1] # Error at output\n",
    "                delta_output = error_output * self.fprime(self.a[1]) # Multiply by gradient\n",
    "                weight_update1 = self.learning_rate * np.dot(delta_output, self.a[0].T) # Distribute error\n",
    "                bias_update1 = self.learning_rate * np.sum(delta_output) # Sum equivalent to dot product with 1's\n",
    "\n",
    "                # Hidden Layer\n",
    "                error_hidden = np.dot(self.weights[1].T, delta_output) # 'Error' at hidden layer\n",
    "                delta_hidden = error_hidden * self.fprime(self.a[0]) # Multiply by gradient\n",
    "                weight_update0 = self.learning_rate * np.dot(delta_hidden, X) # Distribute error\n",
    "                bias_update0 = self.learning_rate * np.sum(delta_hidden) # Sum equivalent to dot product with 1's\n",
    "\n",
    "                # Update Weights\n",
    "                self.weights[1] += weight_update1 # Weights to output layer      \n",
    "                self.weights[0] += weight_update0 # Weights to hidden layer\n",
    "\n",
    "                # Update Biases\n",
    "                self.biases[1] += bias_update1 # Biases to ouput layer\n",
    "                self.biases[0] += bias_update0 # Biases to hidden layer\n",
    "\n",
    "            # For Monitoring gradient descent\n",
    "            if (epoch + 1) % 250 == 0:\n",
    "\n",
    "                #Create model and check error using all samples of Train and Test\n",
    "                model = NeuralNetworkMBGD(num_hidden_nodes=256, learning_rate=0.001, tol=1e-13, num_epochs=2500)\n",
    "                self.models[epoch+1] = copy.deepcopy(self.store_model(model))\n",
    "                err = model.calc_error(X_train, y_train)\n",
    "                test_err = model.calc_error(X_test, y_test)\n",
    "\n",
    "                self.stats.append((epoch, err)) # For plotting\n",
    "                self.test_stats.append((epoch, test_err)) \n",
    "                print(f'Epoch {epoch + 1} : Train Error = {err} : Test Error = {test_err} : Learning rate = {self.learning_rate}')\n",
    "                \n",
    "                # Check for convergence\n",
    "                if abs(err - prev_err) <= self.tol:\n",
    "                    print(f'Convergence met after {epoch} Epochs')\n",
    "                    break\n",
    "                prev_err = err # Storing for next check\n",
    "                \n",
    "                #Change Learning rate based on error\n",
    "                if self.adj_lrr == True:\n",
    "                    if err < 0.33:\n",
    "                        self.learning_rate = self.learning_rate_init / 2\n",
    "                    elif err < 0.29:\n",
    "                        self.learning_rate = self.learning_rate_init / 4\n",
    "                    else:\n",
    "                        self.learning_rate = self.learning_rate_init\n",
    "\n",
    "    def store_model(self, model):\n",
    "        model.weights = self.weights.copy()\n",
    "        model.biases = self.biases.copy()\n",
    "        return model\n",
    "\n",
    "    def calc_error(self,x_train, y_train):\n",
    "        prob = self.predict_proba(x_train)\n",
    "        error = self.compute_error(y_train, prob) \n",
    "        return error"
   ]
  },
  {
   "cell_type": "code",
   "execution_count": 0,
   "metadata": {
    "colab": {},
    "colab_type": "code",
    "id": "3_NMNj7VUHTl"
   },
   "outputs": [],
   "source": [
    "nn_mbgd = NeuralNetworkMBGD(num_hidden_nodes=256, learning_rate=0.01, tol=1e-13, num_epochs=2500)"
   ]
  },
  {
   "cell_type": "code",
   "execution_count": 0,
   "metadata": {
    "colab": {},
    "colab_type": "code",
    "id": "0qnfd92adgVh",
    "outputId": "0c3dae11-1538-4b3e-aed7-e599cd891d91"
   },
   "outputs": [
    {
     "name": "stdout",
     "output_type": "stream",
     "text": [
      "Epoch 250 : Train Error = 0.32603255842673295 : Test Error = 0.308077795658461 : Learning rate = 0.01\n",
      "Epoch 500 : Train Error = 0.3092544610154687 : Test Error = 0.2954576484905404 : Learning rate = 0.01\n",
      "Epoch 750 : Train Error = 0.2917519618825568 : Test Error = 0.2879791364680277 : Learning rate = 0.01\n",
      "Epoch 1000 : Train Error = 0.28401690513364514 : Test Error = 0.2879375388799839 : Learning rate = 0.01\n",
      "Epoch 1250 : Train Error = 0.2734510927785956 : Test Error = 0.2829216523791002 : Learning rate = 0.01\n",
      "Epoch 1500 : Train Error = 0.2650538806635532 : Test Error = 0.28244966627641416 : Learning rate = 0.01\n",
      "Epoch 1750 : Train Error = 0.2563931163688576 : Test Error = 0.28136320395219283 : Learning rate = 0.01\n",
      "Epoch 2000 : Train Error = 0.2505884652153705 : Test Error = 0.2820255034154789 : Learning rate = 0.01\n",
      "Epoch 2250 : Train Error = 0.23829185044756263 : Test Error = 0.27774136374000735 : Learning rate = 0.01\n",
      "Epoch 2500 : Train Error = 0.22673257567485317 : Test Error = 0.2727577594434101 : Learning rate = 0.01\n"
     ]
    }
   ],
   "source": [
    "nn_mbgd.fit(X_train_norm, y_train, X_test_norm, y_test)"
   ]
  },
  {
   "cell_type": "code",
   "execution_count": 0,
   "metadata": {
    "colab": {},
    "colab_type": "code",
    "id": "RFPGzcHSdl_C",
    "outputId": "be587cc0-a292-4c4b-e1bb-1286ea595ffd"
   },
   "outputs": [
    {
     "name": "stdout",
     "output_type": "stream",
     "text": [
      "MBGD Accuracy in Test data: 79.80535279805353%\n"
     ]
    },
    {
     "data": {
      "image/png": "[encoded data removed]",
      "text/plain": [
       "<Figure size 432x288 with 2 Axes>"
      ]
     },
     "metadata": {
      "needs_background": "light",
      "tags": []
     },
     "output_type": "display_data"
    }
   ],
   "source": [
    "print(f'MBGD Accuracy in Test data: {nn_mbgd.score(X_test_norm, y_test) * 100}%')\n",
    "y_pred = nn_mbgd.predict(X_test_norm)\n",
    "make_confusion_matrix(y_pred, y_test)"
   ]
  },
  {
   "cell_type": "code",
   "execution_count": 0,
   "metadata": {
    "colab": {},
    "colab_type": "code",
    "id": "faFb0ef8drVD",
    "outputId": "19e8bf2d-46b0-4e29-bd0d-8b4fb78cf660"
   },
   "outputs": [
    {
     "data": {
      "image/png": "[encoded data removed]",
      "text/plain": [
       "<Figure size 432x288 with 1 Axes>"
      ]
     },
     "metadata": {
      "needs_background": "light",
      "tags": []
     },
     "output_type": "display_data"
    }
   ],
   "source": [
    "#print error curve for nn, nn_mbgd(train and test)\n",
    "train_stats = np.array(nn_mbgd.stats)\n",
    "test_stats = np.array(nn_mbgd.test_stats)\n",
    "nn_stats = np.array(nn.stats)\n",
    "plt.plot(train_stats[:,0], train_stats[:,1], 'b.-', alpha=0.8)\n",
    "plt.plot(test_stats[:,0], test_stats[:,1],'g.-', alpha=0.8)\n",
    "plt.plot(nn_stats[:,0], nn_stats[:,1], 'r.-', alpha=0.8)\n",
    "plt.xlabel('Epochs')\n",
    "plt.ylabel('Mean Average Error')\n",
    "plt.legend(['1 MBGD - Train', '2 MBGD - Test', '3 BGD - Train'])\n",
    "plt.show()\n"
   ]
  },
  {
   "cell_type": "markdown",
   "metadata": {
    "colab_type": "text",
    "id": "sTd2adlcf-Or"
   },
   "source": [
    "___\n",
    "### Observations\n",
    "#### Parameters\n",
    "\n",
    "- **Batch Size:** We tried multiple batch sizes to match the CPU arcitecture (32, 64, 128 and 256) and found it has an impact on the convergence speed. Papers suggest ideal size as 32(bengio) or 128(liang). For this dataset, the mini-batch size $128$ converges faster and allows us to have the learning rate 0.01.\n",
    "\n",
    "- **Learning Rate:** (hinton) suggested that decaying the learning rate improves convergence by reducing weight oscillations.  We used LR as another parameter and found that it provides marginal improvements at end of the cycle. However, the final test run we did without decaying of learning rate.\n",
    "\n",
    "#### Others\n",
    "\n",
    "- **Shuffle:** This paper (bengio) suggests shuffling and allowing randomness  in the selection of samples facilitates fast convergence. We tried testing with and without shuffle and observed with shuffle converges 2-3 times faster than without shuffle\n",
    "\n",
    "- **Convergence Speed:** The speed is convergence is much faster than the Batch Gradient Descent. It converges in $1000$ epochs to the same accuracy of BGD, which takes $10000$ epochs. The improvement in speed is $90\\%$ as shown the above plot for the error of $0.28$\n",
    "\n",
    "- **Accuracy:** At the end of $2500$ epochs this provides an accuracy of $79.80\\%$ as against $79.07\\%$ of BGD with $10000$ epoches.\n",
    "\n",
    "- **Confusion Matrix:** From the confusion matrix, we observed that the model makes more error in predicting the actual label Ship compared to label Frog\n",
    "\n",
    "- **Overfitting:** We also plotted the error curve for both train and test data and observed the overfitting. We found that after 1000 epochs, the decrease in error is much slower in test data when compared to train data, but it decreases nominally.\n",
    "\n",
    "**Sources:**\n",
    "\n",
    "Bengio, Yoshua. Book: Neural networks: Tricks of the trade, Springer. Practical recommendations for gradient-based training of deep architectures\n",
    "\n",
    "Yingyu Liang. Url: https://www.cs.princeton.edu/courses/archive/spring16/cos495/. COS 495-Introduction to Deep Learning\n",
    "\n",
    "Geoffrey E. Hinton. Url. http://www.cs.toronto.edu/~hinton/coursera/lecture6/lec6a.mp4. Lecture 6 Overview of mini batch gradient descent\n",
    "___\n"
   ]
  }
 ],
 "metadata": {
  "colab": {
   "collapsed_sections": [],
   "name": "CT5133_DeepLearning_Assignment1_final_Mani_v2.ipynb",
   "provenance": []
  },
  "kernelspec": {
   "display_name": "Python 3",
   "language": "python",
   "name": "python3"
  },
  "language_info": {
   "codemirror_mode": {
    "name": "ipython",
    "version": 3
   },
   "file_extension": ".py",
   "mimetype": "text/x-python",
   "name": "python",
   "nbconvert_exporter": "python",
   "pygments_lexer": "ipython3",
   "version": "3.7.4"
  }
 },
 "nbformat": 4,
 "nbformat_minor": 1
}
